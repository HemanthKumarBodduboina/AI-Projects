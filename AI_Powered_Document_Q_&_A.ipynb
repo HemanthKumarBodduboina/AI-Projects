{
  "nbformat": 4,
  "nbformat_minor": 0,
  "metadata": {
    "colab": {
      "provenance": [],
      "authorship_tag": "ABX9TyOrnTycLBjifSH5Xh5s3KSr"
    },
    "kernelspec": {
      "name": "python3",
      "display_name": "Python 3"
    },
    "language_info": {
      "name": "python"
    }
  },
  "cells": [
    {
      "cell_type": "code",
      "execution_count": null,
      "metadata": {
        "id": "gPOALQg-gtpT"
      },
      "outputs": [],
      "source": [
        "!pip install openai faiss-cpu PyMuPDF python-dotenv"
      ]
    },
    {
      "cell_type": "code",
      "source": [
        "import os\n",
        "import fitz  # PyMuPDF\n",
        "import faiss\n",
        "import numpy as np\n",
        "from openai import OpenAI\n",
        "from dotenv import load_dotenv\n",
        "from google.colab import userdata\n",
        "\n",
        "# Load environment variables (optional, if using a .env file locally)\n",
        "load_dotenv()\n",
        "\n",
        "# Get your OpenAI API key from Colab's secrets\n",
        "# Go to the \"🔑\" icon in the left sidebar, click on \"Secrets\", and add a new secret with the name \"OPENAI_API_KEY\" and your API key as the value.\n",
        "openai_api_key = userdata.get(\"AIproject\")\n",
        "\n",
        "client = OpenAI(api_key= openai_api_key)"
      ],
      "metadata": {
        "id": "rR9loFl1m4EJ"
      },
      "execution_count": 7,
      "outputs": []
    },
    {
      "cell_type": "code",
      "source": [
        "def extract_text_from_pdf(file_path):\n",
        "    \"\"\"Extract text from a PDF using PyMuPDF\"\"\"\n",
        "    doc = fitz.open(file_path)\n",
        "    text = \"\"\n",
        "    for page in doc:\n",
        "        text += page.get_text(\"text\")\n",
        "    return text\n",
        "\n",
        "def chunk_text(text, chunk_size=1000, overlap=200):\n",
        "    \"\"\"Split text into overlapping chunks\"\"\"\n",
        "    chunks = []\n",
        "    start = 0\n",
        "    while start < len(text):\n",
        "        end = start + chunk_size\n",
        "        chunk = text[start:end]\n",
        "        chunks.append(chunk.strip())\n",
        "        start += chunk_size - overlap\n",
        "    return chunks\n",
        "\n",
        "def get_embeddings(texts, model=\"text-embedding-3-small\"):\n",
        "    \"\"\"Generate embeddings for a list of texts\"\"\"\n",
        "    embeddings = []\n",
        "    batch_size = 50\n",
        "    for i in range(0, len(texts), batch_size):\n",
        "        batch = texts[i:i+batch_size]\n",
        "        response = client.embeddings.create(model=model, input=batch)\n",
        "        embeddings.extend([data.embedding for data in response.data])\n",
        "    return np.array(embeddings).astype(\"float32\")"
      ],
      "metadata": {
        "id": "sqTMheT6hFhU"
      },
      "execution_count": 8,
      "outputs": []
    },
    {
      "cell_type": "code",
      "source": [
        "from google.colab import files\n",
        "\n",
        "uploaded = files.upload()\n",
        "file_name = list(uploaded.keys())[0]\n",
        "print(f\"Uploaded: {file_name}\")\n",
        "\n",
        "# Extract text\n",
        "if file_name.lower().endswith(\".pdf\"):\n",
        "    text = extract_text_from_pdf(file_name)\n",
        "else:\n",
        "    text = open(file_name, \"r\", encoding=\"utf-8\").read()\n",
        "\n",
        "print(\"Total text length:\", len(text))"
      ],
      "metadata": {
        "colab": {
          "base_uri": "https://localhost:8080/",
          "height": 108
        },
        "id": "Rf2I3t2gmDEO",
        "outputId": "44f77138-b319-43c8-f8c2-a0854ea2cd99"
      },
      "execution_count": 9,
      "outputs": [
        {
          "output_type": "display_data",
          "data": {
            "text/plain": [
              "<IPython.core.display.HTML object>"
            ],
            "text/html": [
              "\n",
              "     <input type=\"file\" id=\"files-8e791309-68ea-4d63-a924-3ce19dff0cb9\" name=\"files[]\" multiple disabled\n",
              "        style=\"border:none\" />\n",
              "     <output id=\"result-8e791309-68ea-4d63-a924-3ce19dff0cb9\">\n",
              "      Upload widget is only available when the cell has been executed in the\n",
              "      current browser session. Please rerun this cell to enable.\n",
              "      </output>\n",
              "      <script>// Copyright 2017 Google LLC\n",
              "//\n",
              "// Licensed under the Apache License, Version 2.0 (the \"License\");\n",
              "// you may not use this file except in compliance with the License.\n",
              "// You may obtain a copy of the License at\n",
              "//\n",
              "//      http://www.apache.org/licenses/LICENSE-2.0\n",
              "//\n",
              "// Unless required by applicable law or agreed to in writing, software\n",
              "// distributed under the License is distributed on an \"AS IS\" BASIS,\n",
              "// WITHOUT WARRANTIES OR CONDITIONS OF ANY KIND, either express or implied.\n",
              "// See the License for the specific language governing permissions and\n",
              "// limitations under the License.\n",
              "\n",
              "/**\n",
              " * @fileoverview Helpers for google.colab Python module.\n",
              " */\n",
              "(function(scope) {\n",
              "function span(text, styleAttributes = {}) {\n",
              "  const element = document.createElement('span');\n",
              "  element.textContent = text;\n",
              "  for (const key of Object.keys(styleAttributes)) {\n",
              "    element.style[key] = styleAttributes[key];\n",
              "  }\n",
              "  return element;\n",
              "}\n",
              "\n",
              "// Max number of bytes which will be uploaded at a time.\n",
              "const MAX_PAYLOAD_SIZE = 100 * 1024;\n",
              "\n",
              "function _uploadFiles(inputId, outputId) {\n",
              "  const steps = uploadFilesStep(inputId, outputId);\n",
              "  const outputElement = document.getElementById(outputId);\n",
              "  // Cache steps on the outputElement to make it available for the next call\n",
              "  // to uploadFilesContinue from Python.\n",
              "  outputElement.steps = steps;\n",
              "\n",
              "  return _uploadFilesContinue(outputId);\n",
              "}\n",
              "\n",
              "// This is roughly an async generator (not supported in the browser yet),\n",
              "// where there are multiple asynchronous steps and the Python side is going\n",
              "// to poll for completion of each step.\n",
              "// This uses a Promise to block the python side on completion of each step,\n",
              "// then passes the result of the previous step as the input to the next step.\n",
              "function _uploadFilesContinue(outputId) {\n",
              "  const outputElement = document.getElementById(outputId);\n",
              "  const steps = outputElement.steps;\n",
              "\n",
              "  const next = steps.next(outputElement.lastPromiseValue);\n",
              "  return Promise.resolve(next.value.promise).then((value) => {\n",
              "    // Cache the last promise value to make it available to the next\n",
              "    // step of the generator.\n",
              "    outputElement.lastPromiseValue = value;\n",
              "    return next.value.response;\n",
              "  });\n",
              "}\n",
              "\n",
              "/**\n",
              " * Generator function which is called between each async step of the upload\n",
              " * process.\n",
              " * @param {string} inputId Element ID of the input file picker element.\n",
              " * @param {string} outputId Element ID of the output display.\n",
              " * @return {!Iterable<!Object>} Iterable of next steps.\n",
              " */\n",
              "function* uploadFilesStep(inputId, outputId) {\n",
              "  const inputElement = document.getElementById(inputId);\n",
              "  inputElement.disabled = false;\n",
              "\n",
              "  const outputElement = document.getElementById(outputId);\n",
              "  outputElement.innerHTML = '';\n",
              "\n",
              "  const pickedPromise = new Promise((resolve) => {\n",
              "    inputElement.addEventListener('change', (e) => {\n",
              "      resolve(e.target.files);\n",
              "    });\n",
              "  });\n",
              "\n",
              "  const cancel = document.createElement('button');\n",
              "  inputElement.parentElement.appendChild(cancel);\n",
              "  cancel.textContent = 'Cancel upload';\n",
              "  const cancelPromise = new Promise((resolve) => {\n",
              "    cancel.onclick = () => {\n",
              "      resolve(null);\n",
              "    };\n",
              "  });\n",
              "\n",
              "  // Wait for the user to pick the files.\n",
              "  const files = yield {\n",
              "    promise: Promise.race([pickedPromise, cancelPromise]),\n",
              "    response: {\n",
              "      action: 'starting',\n",
              "    }\n",
              "  };\n",
              "\n",
              "  cancel.remove();\n",
              "\n",
              "  // Disable the input element since further picks are not allowed.\n",
              "  inputElement.disabled = true;\n",
              "\n",
              "  if (!files) {\n",
              "    return {\n",
              "      response: {\n",
              "        action: 'complete',\n",
              "      }\n",
              "    };\n",
              "  }\n",
              "\n",
              "  for (const file of files) {\n",
              "    const li = document.createElement('li');\n",
              "    li.append(span(file.name, {fontWeight: 'bold'}));\n",
              "    li.append(span(\n",
              "        `(${file.type || 'n/a'}) - ${file.size} bytes, ` +\n",
              "        `last modified: ${\n",
              "            file.lastModifiedDate ? file.lastModifiedDate.toLocaleDateString() :\n",
              "                                    'n/a'} - `));\n",
              "    const percent = span('0% done');\n",
              "    li.appendChild(percent);\n",
              "\n",
              "    outputElement.appendChild(li);\n",
              "\n",
              "    const fileDataPromise = new Promise((resolve) => {\n",
              "      const reader = new FileReader();\n",
              "      reader.onload = (e) => {\n",
              "        resolve(e.target.result);\n",
              "      };\n",
              "      reader.readAsArrayBuffer(file);\n",
              "    });\n",
              "    // Wait for the data to be ready.\n",
              "    let fileData = yield {\n",
              "      promise: fileDataPromise,\n",
              "      response: {\n",
              "        action: 'continue',\n",
              "      }\n",
              "    };\n",
              "\n",
              "    // Use a chunked sending to avoid message size limits. See b/62115660.\n",
              "    let position = 0;\n",
              "    do {\n",
              "      const length = Math.min(fileData.byteLength - position, MAX_PAYLOAD_SIZE);\n",
              "      const chunk = new Uint8Array(fileData, position, length);\n",
              "      position += length;\n",
              "\n",
              "      const base64 = btoa(String.fromCharCode.apply(null, chunk));\n",
              "      yield {\n",
              "        response: {\n",
              "          action: 'append',\n",
              "          file: file.name,\n",
              "          data: base64,\n",
              "        },\n",
              "      };\n",
              "\n",
              "      let percentDone = fileData.byteLength === 0 ?\n",
              "          100 :\n",
              "          Math.round((position / fileData.byteLength) * 100);\n",
              "      percent.textContent = `${percentDone}% done`;\n",
              "\n",
              "    } while (position < fileData.byteLength);\n",
              "  }\n",
              "\n",
              "  // All done.\n",
              "  yield {\n",
              "    response: {\n",
              "      action: 'complete',\n",
              "    }\n",
              "  };\n",
              "}\n",
              "\n",
              "scope.google = scope.google || {};\n",
              "scope.google.colab = scope.google.colab || {};\n",
              "scope.google.colab._files = {\n",
              "  _uploadFiles,\n",
              "  _uploadFilesContinue,\n",
              "};\n",
              "})(self);\n",
              "</script> "
            ]
          },
          "metadata": {}
        },
        {
          "output_type": "stream",
          "name": "stdout",
          "text": [
            "Saving The-Hindu-Review-August.pdf to The-Hindu-Review-August (1).pdf\n",
            "Uploaded: The-Hindu-Review-August (1).pdf\n",
            "Total text length: 195033\n"
          ]
        }
      ]
    },
    {
      "cell_type": "code",
      "source": [
        "chunks = chunk_text(text)\n",
        "print(f\"Total chunks created: {len(chunks)}\")\n",
        "\n",
        "embeddings = get_embeddings(chunks)\n",
        "dimension = embeddings.shape[1]\n",
        "\n",
        "# Build FAISS index\n",
        "index = faiss.IndexFlatL2(dimension)\n",
        "index.add(embeddings)\n",
        "\n",
        "print(\"FAISS index built successfully!\")"
      ],
      "metadata": {
        "colab": {
          "base_uri": "https://localhost:8080/"
        },
        "id": "VV1wP4h8mGv4",
        "outputId": "5f1316ca-3482-4bfd-b880-306168bd1ed9"
      },
      "execution_count": 10,
      "outputs": [
        {
          "output_type": "stream",
          "name": "stdout",
          "text": [
            "Total chunks created: 244\n",
            "FAISS index built successfully!\n"
          ]
        }
      ]
    },
    {
      "cell_type": "code",
      "source": [
        "def answer_question(question, top_k=5, model=\"gpt-4o-mini\"):\n",
        "    \"\"\"Retrieve relevant chunks and answer the question\"\"\"\n",
        "    # Get embedding for the question\n",
        "    q_embedding = client.embeddings.create(model=\"text-embedding-3-small\", input=[question]).data[0].embedding\n",
        "    q_embedding = np.array([q_embedding]).astype(\"float32\")\n",
        "\n",
        "    # Search in FAISS index\n",
        "    distances, indices = index.search(q_embedding, top_k)\n",
        "\n",
        "    # Combine top chunks\n",
        "    retrieved_chunks = [chunks[i] for i in indices[0]]\n",
        "    context = \"\\n\\n\".join(retrieved_chunks)\n",
        "\n",
        "    # Ask GPT for answer\n",
        "    prompt = f\"Answer the following question using the context below.\\n\\nContext:\\n{context}\\n\\nQuestion: {question}\\nAnswer:\"\n",
        "    completion = client.chat.completions.create(\n",
        "        model=model,\n",
        "        messages=[\n",
        "            {\"role\": \"system\", \"content\": \"You are a helpful assistant for document Q&A.\"},\n",
        "            {\"role\": \"user\", \"content\": prompt},\n",
        "        ],\n",
        "        temperature=0.2,\n",
        "        max_tokens=400,\n",
        "    )\n",
        "    return completion.choices[0].message.content\n",
        "\n",
        "# Example query\n",
        "question = \"Summarize the main idea of the document.\"\n",
        "print(answer_question(question))"
      ],
      "metadata": {
        "colab": {
          "base_uri": "https://localhost:8080/"
        },
        "id": "NVgv42NLmTji",
        "outputId": "1938f9bd-0fa6-469d-c944-c1a704421276"
      },
      "execution_count": 11,
      "outputs": [
        {
          "output_type": "stream",
          "name": "stdout",
          "text": [
            "The document discusses a new tax bill aimed at simplifying tax compliance and enhancing transparency for taxpayers and investors. It outlines key features such as the use of simplified language, organized provisions, the introduction of a single \"Tax Year,\" and a digital-first approach to tax administration. The bill seeks to reduce litigation by removing ambiguous provisions and aims to support the Digital India initiative through automation and clearer rules, ultimately making tax filing easier and more efficient.\n"
          ]
        }
      ]
    },
    {
      "cell_type": "code",
      "source": [
        "while True:\n",
        "    q = input(\"\\nAsk a question (or type 'exit'): \")\n",
        "    if q.lower() == \"exit\":\n",
        "        break\n",
        "    print(\"\\nAnswer:\", answer_question(q))"
      ],
      "metadata": {
        "colab": {
          "base_uri": "https://localhost:8080/"
        },
        "id": "51XthpeGnQSl",
        "outputId": "1fa4058b-4402-49e9-95f3-0c214299e001"
      },
      "execution_count": 12,
      "outputs": [
        {
          "name": "stdout",
          "output_type": "stream",
          "text": [
            "\n",
            "Ask a question (or type 'exit'): Give me about topic related in document\n",
            "\n",
            "Answer: The document covers a variety of topics, including:\n",
            "\n",
            "1. **Banking & Finance** - Information related to financial institutions and economic developments.\n",
            "2. **Economy & Business** - Insights into economic trends and business activities.\n",
            "3. **MoUs & Agreements** - Details on memorandums of understanding and agreements between countries or organizations.\n",
            "4. **Appointments & Resignations** - Updates on personnel changes in various organizations.\n",
            "5. **Awards** - Recognition and awards given in different fields.\n",
            "6. **Summits, Events & Conferences** - Information about significant gatherings and discussions on various topics.\n",
            "7. **Defence** - Developments and news related to national and international defense.\n",
            "8. **Science & Technology** - Innovations and advancements in science and technology, including AI developments like Google's Gemini 2.5 Flash Image.\n",
            "9. **Sports** - Current affairs and updates in the sports sector.\n",
            "10. **Books & Authors** - Information about new publications and authors.\n",
            "\n",
            "These topics provide a comprehensive overview of current affairs and developments across multiple sectors.\n",
            "\n",
            "Ask a question (or type 'exit'): provide me information about awards and sports\n",
            "\n",
            "Answer: The context provides several highlights related to sports achievements and awards in August 2025:\n",
            "\n",
            "1. **Cricket**:\n",
            "   - **Sunil Gavaskar**: A statue was unveiled at Wankhede Stadium, and the MCA Sharad Pawar Cricket Museum was inaugurated.\n",
            "   - **ICC Players of the Month (July 2025)**:\n",
            "     - **Men’s**: Shubman Gill was recognized for scoring 567 runs in 3 Tests against England, including a notable 269 runs as debut Test captain.\n",
            "     - **Women’s**: Sophia Dunkley was awarded for her performance, scoring 144 runs in T20I and 126 runs in ODI against India.\n",
            "\n",
            "2. **Shooting**:\n",
            "   - **Aishwary Pratap Singh Tomar** won a gold medal in the 50m rifle 3P at the 16th Asian Shooting Championship in Shymkent, Kazakhstan, with a score of 462.5 points. India also secured a silver medal in the team event.\n",
            "\n",
            "3. **Weightlifting**:\n",
            "   - **Mirabai Chanu** won a gold medal at the 2025 Commonwealth Weightlifting Championships in Ahmedabad, lifting 193 kg and setting new records in all categories.\n",
            "\n",
            "4. **Boxing**:\n",
            "   - India achieved significant success at the Asian U19 & U22 Championships in Bangkok, winning a total of 27 medals, including 4 golds, 11 silvers, and 12 bronzes. Notably, Ritika won gold in the U19 80+ kg category.\n",
            "\n",
            "5. **Other Sports**:\n",
            "   - **Chess**: Vincent Keymer from Germany won the Quantbox Chennai GM 2025 title, entering the world Top 10.\n",
            "   - **Wushu**: Namrata Batra reached the women’s 52kg final at the World Games 2025 in Chengdu, marking India’s first-ever medal in Wushu (silver or gold pending).\n",
            "\n",
            "\n",
            "\n",
            "Ask a question (or type 'exit'): exit\n"
          ]
        }
      ]
    },
    {
      "cell_type": "code",
      "source": [],
      "metadata": {
        "id": "P5-ZuHIjoJpz"
      },
      "execution_count": null,
      "outputs": []
    }
  ]
}